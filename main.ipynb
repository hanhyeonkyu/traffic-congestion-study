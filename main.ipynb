{
 "cells": [
  {
   "cell_type": "code",
   "execution_count": 1,
   "id": "41ac4f9e-c3f3-4287-b6be-1ff98bde3658",
   "metadata": {},
   "outputs": [],
   "source": [
    "import numpy as np\n",
    "import pandas as pd\n",
    "import matplotlib.pyplot as plt\n",
    "plt.rcParams['axes.facecolor'] = 'gray'\n",
    "import plotly.express as px\n",
    "import seaborn as sns\n",
    "\n",
    "from sklearn.linear_model import LinearRegression as lr\n",
    "from sklearn.ensemble import RandomForestRegressor as rfr, ExtraTreesRegressor as etr\n",
    "from sklearn.model_selection import TimeSeriesSplit, KFold\n",
    "from sklearn.metrics import mean_absolute_error\n",
    "\n",
    "from lightgbm import LGBMRegressor as lgb\n",
    "\n",
    "import warnings\n",
    "warnings.simplefilter('ignore')"
   ]
  },
  {
   "cell_type": "code",
   "execution_count": 3,
   "id": "292be30f-a8a4-48ce-9f8f-70df007dc7bf",
   "metadata": {},
   "outputs": [
    {
     "data": {
      "text/html": [
       "<div>\n",
       "<style scoped>\n",
       "    .dataframe tbody tr th:only-of-type {\n",
       "        vertical-align: middle;\n",
       "    }\n",
       "\n",
       "    .dataframe tbody tr th {\n",
       "        vertical-align: top;\n",
       "    }\n",
       "\n",
       "    .dataframe thead th {\n",
       "        text-align: right;\n",
       "    }\n",
       "</style>\n",
       "<table border=\"1\" class=\"dataframe\">\n",
       "  <thead>\n",
       "    <tr style=\"text-align: right;\">\n",
       "      <th></th>\n",
       "      <th>time</th>\n",
       "      <th>x</th>\n",
       "      <th>y</th>\n",
       "      <th>direction</th>\n",
       "      <th>congestion</th>\n",
       "      <th>time_id</th>\n",
       "    </tr>\n",
       "    <tr>\n",
       "      <th>row_id</th>\n",
       "      <th></th>\n",
       "      <th></th>\n",
       "      <th></th>\n",
       "      <th></th>\n",
       "      <th></th>\n",
       "      <th></th>\n",
       "    </tr>\n",
       "  </thead>\n",
       "  <tbody>\n",
       "    <tr>\n",
       "      <th>0</th>\n",
       "      <td>1991-04-01</td>\n",
       "      <td>0</td>\n",
       "      <td>0</td>\n",
       "      <td>EB</td>\n",
       "      <td>70</td>\n",
       "      <td>6480</td>\n",
       "    </tr>\n",
       "    <tr>\n",
       "      <th>1</th>\n",
       "      <td>1991-04-01</td>\n",
       "      <td>0</td>\n",
       "      <td>0</td>\n",
       "      <td>NB</td>\n",
       "      <td>49</td>\n",
       "      <td>6480</td>\n",
       "    </tr>\n",
       "    <tr>\n",
       "      <th>2</th>\n",
       "      <td>1991-04-01</td>\n",
       "      <td>0</td>\n",
       "      <td>0</td>\n",
       "      <td>SB</td>\n",
       "      <td>24</td>\n",
       "      <td>6480</td>\n",
       "    </tr>\n",
       "    <tr>\n",
       "      <th>3</th>\n",
       "      <td>1991-04-01</td>\n",
       "      <td>0</td>\n",
       "      <td>1</td>\n",
       "      <td>EB</td>\n",
       "      <td>18</td>\n",
       "      <td>6480</td>\n",
       "    </tr>\n",
       "    <tr>\n",
       "      <th>4</th>\n",
       "      <td>1991-04-01</td>\n",
       "      <td>0</td>\n",
       "      <td>1</td>\n",
       "      <td>NB</td>\n",
       "      <td>60</td>\n",
       "      <td>6480</td>\n",
       "    </tr>\n",
       "  </tbody>\n",
       "</table>\n",
       "</div>"
      ],
      "text/plain": [
       "             time  x  y direction  congestion  time_id\n",
       "row_id                                                \n",
       "0      1991-04-01  0  0        EB          70     6480\n",
       "1      1991-04-01  0  0        NB          49     6480\n",
       "2      1991-04-01  0  0        SB          24     6480\n",
       "3      1991-04-01  0  1        EB          18     6480\n",
       "4      1991-04-01  0  1        NB          60     6480"
      ]
     },
     "execution_count": 3,
     "metadata": {},
     "output_type": "execute_result"
    }
   ],
   "source": [
    "train = pd.read_csv('train.csv')\n",
    "train.time = pd.to_datetime(train.time)\n",
    "train['time_id'] = ( ( (train.time.dt.dayofyear-1)*24*60 + train.time.dt.hour*60 + train.time.dt.minute ) /20 ).astype(int)\n",
    "train = train.set_index('row_id', drop=True)\n",
    "train.head()"
   ]
  },
  {
   "cell_type": "code",
   "execution_count": 4,
   "id": "fd8da4a0-9b76-4dbf-8a9d-464c76e6226e",
   "metadata": {},
   "outputs": [],
   "source": [
    "test = pd.read_csv('test.csv')\n",
    "test.time = pd.to_datetime(test.time)\n",
    "sbmin = pd.read_csv('sample_submission.csv')"
   ]
  },
  {
   "cell_type": "code",
   "execution_count": 5,
   "id": "87762ebf-254a-4690-9ca5-b09e84cfba35",
   "metadata": {},
   "outputs": [
    {
     "name": "stdout",
     "output_type": "stream",
     "text": [
      "    x  y                                             dir_xy  num_dir\n",
      "0   0  0                             [[1,0], [0,1], [0,-1]]        3\n",
      "1   0  1                     [[1,0], [0,1], [0,-1], [-1,0]]        4\n",
      "2   0  2                     [[1,0], [0,1], [0,-1], [-1,0]]        4\n",
      "3   0  3     [[1,0], [0,1], [1,1], [0,-1], [-1,-1], [-1,0]]        6\n",
      "4   1  0     [[1,0], [0,1], [1,1], [0,-1], [-1,-1], [-1,0]]        6\n",
      "5   1  1                     [[1,0], [0,1], [0,-1], [-1,0]]        4\n",
      "6   1  2     [[1,0], [0,1], [1,1], [0,-1], [-1,-1], [-1,0]]        6\n",
      "7   1  3     [[1,0], [0,1], [1,1], [0,-1], [-1,-1], [-1,0]]        6\n",
      "8   2  0                     [[1,0], [0,1], [0,-1], [-1,0]]        4\n",
      "9   2  1  [[1,0], [0,1], [1,1], [-1,1], [0,-1], [1,-1], ...        8\n",
      "10  2  2  [[1,0], [0,1], [1,1], [-1,1], [0,-1], [1,-1], ...        8\n",
      "11  2  3     [[1,0], [0,1], [1,1], [0,-1], [-1,-1], [-1,0]]        6\n",
      "Number of roadways: 65\n"
     ]
    }
   ],
   "source": [
    "train['dir_xy'] = train.direction.map({'EB':'[1,0]', 'NB':'[0,1]', 'SB':'[0,-1]', 'WB':'[-1,0]', 'NE':'[1,1]', 'SW':'[-1,-1]', 'NW':'[-1,1]', 'SE':'[1,-1]'})\n",
    "loc_dir = train.groupby(['x', 'y']).dir_xy.unique().reset_index()\n",
    "loc_dir['num_dir'] = loc_dir.dir_xy.apply(lambda x: len(x))\n",
    "print(loc_dir)\n",
    "print(f'Number of roadways: {loc_dir.num_dir.sum()}')"
   ]
  },
  {
   "cell_type": "code",
   "execution_count": 6,
   "id": "162d0974-6b03-4ae8-97b3-f6c46e511700",
   "metadata": {},
   "outputs": [
    {
     "data": {
      "image/png": "[encoded data removed]",
      "text/plain": [
       "<Figure size 720x504 with 1 Axes>"
      ]
     },
     "metadata": {},
     "output_type": "display_data"
    }
   ],
   "source": [
    "plt.figure(figsize=(10,7), facecolor='gray')\n",
    "for idx, row in loc_dir.iterrows():\n",
    "    origin = np.repeat(np.array([[row.x],[row.y]]),row.num_dir, axis=-1)\n",
    "    V = np.array([eval(s) for s in row.dir_xy])\n",
    "    plt.quiver(*origin, V[:,0], V[:,1], scale=15, color='white')\n",
    "plt.xlim(-0.5,2.5)\n",
    "plt.ylim(-0.5,3.5)\n",
    "plt.xticks([])\n",
    "plt.yticks([])\n",
    "plt.show()"
   ]
  },
  {
   "cell_type": "code",
   "execution_count": 7,
   "id": "fe6d2cea-a174-4c25-9fac-eda4d12dc0ee",
   "metadata": {},
   "outputs": [],
   "source": [
    "train = train.drop('dir_xy',axis=1)"
   ]
  },
  {
   "cell_type": "code",
   "execution_count": 8,
   "id": "60d8b2af-861d-4f1a-bed4-6187734fcfaa",
   "metadata": {},
   "outputs": [
    {
     "name": "stdout",
     "output_type": "stream",
     "text": [
      "x  y  direction\n",
      "0  0  EB           13059\n",
      "      NB           13059\n",
      "      SB           13059\n",
      "   1  EB           13059\n",
      "      NB           13059\n",
      "                   ...  \n",
      "2  3  NB           13059\n",
      "      NE           13059\n",
      "      SB           13059\n",
      "      SW           13059\n",
      "      WB           13059\n",
      "Name: time, Length: 65, dtype: int64\n",
      "Total time instants within the observation period: 13140\n"
     ]
    }
   ],
   "source": [
    "print(train.groupby(['x', 'y', 'direction']).time.count())\n",
    "print(f'Total time instants within the observation period: {int(train.time_id.max() - train.time_id.min()+1)}')"
   ]
  },
  {
   "cell_type": "code",
   "execution_count": 9,
   "id": "3e7918ee-2db0-459c-99f3-591b6689fbe3",
   "metadata": {},
   "outputs": [
    {
     "name": "stdout",
     "output_type": "stream",
     "text": [
      "Missing row:\n",
      "index            0\n",
      "time             0\n",
      "x             5265\n",
      "y             5265\n",
      "direction     5265\n",
      "congestion    5265\n",
      "time_id       5265\n",
      "dtype: int64\n"
     ]
    }
   ],
   "source": [
    "time = pd.DataFrame(pd.date_range('1991-04-01 00:00:00', '1991-09-30 11:40:00', freq='20Min'), columns=['time'])\n",
    "\n",
    "dfs = []\n",
    "for group in train.groupby(['x', 'y', 'direction']):\n",
    "    dfs.append(group[1].merge(time, on='time', how= 'right'))\n",
    "\n",
    "train_new = pd.concat(dfs, axis=0).sort_values(['time', 'x', 'y', 'direction']).reset_index()\n",
    "print(f'Missing row:\\n{train_new.isna().sum()}')"
   ]
  },
  {
   "cell_type": "code",
   "execution_count": 10,
   "id": "a1a322d5-18e3-4f6a-be78-ffe4f4ed197b",
   "metadata": {},
   "outputs": [
    {
     "data": {
      "image/png": "[encoded data removed]",
      "text/plain": [
       "<Figure size 720x360 with 1 Axes>"
      ]
     },
     "metadata": {
      "needs_background": "light"
     },
     "output_type": "display_data"
    }
   ],
   "source": [
    "plt.figure(figsize=(10,5))\n",
    "train.congestion.hist(bins=100, color='yellow')\n",
    "plt.xlabel('Congestion', fontsize=16)\n",
    "plt.ylabel('Count', fontsize=16)\n",
    "plt.show()"
   ]
  },
  {
   "cell_type": "code",
   "execution_count": 11,
   "id": "6320949a-694f-448a-b8ad-1d65720002e1",
   "metadata": {},
   "outputs": [],
   "source": [
    "train['daytime_id'] = ( (train.time.dt.hour*60+train.time.dt.minute) /20 ).astype(int)"
   ]
  },
  {
   "cell_type": "code",
   "execution_count": 12,
   "id": "f6dd91a6-2e47-4104-b0be-21ddf5c8eb8c",
   "metadata": {},
   "outputs": [],
   "source": [
    "test['congestion'] = -1\n",
    "\n",
    "for x in range(3):\n",
    "    for y in range(4):\n",
    "        for idx, direction in enumerate(train.direction.unique()):\n",
    "            # extract data for each roadway\n",
    "            df = train[(train.x == x) & (train.y==y) & (train.direction==direction)]\n",
    "            \n",
    "            if df.shape[0]>0:                \n",
    "                test.congestion[(test.x == x) & (test.y==y) & (test.direction==direction)] = df.groupby(df.daytime_id).congestion.median().tolist()[-36:]"
   ]
  },
  {
   "cell_type": "code",
   "execution_count": 15,
   "id": "147aa5e5-13ba-45e8-83de-a2d1f9436bb1",
   "metadata": {},
   "outputs": [
    {
     "data": {
      "text/html": [
       "<div>\n",
       "<style scoped>\n",
       "    .dataframe tbody tr th:only-of-type {\n",
       "        vertical-align: middle;\n",
       "    }\n",
       "\n",
       "    .dataframe tbody tr th {\n",
       "        vertical-align: top;\n",
       "    }\n",
       "\n",
       "    .dataframe thead th {\n",
       "        text-align: right;\n",
       "    }\n",
       "</style>\n",
       "<table border=\"1\" class=\"dataframe\">\n",
       "  <thead>\n",
       "    <tr style=\"text-align: right;\">\n",
       "      <th></th>\n",
       "      <th>row_id</th>\n",
       "      <th>congestion</th>\n",
       "    </tr>\n",
       "  </thead>\n",
       "  <tbody>\n",
       "    <tr>\n",
       "      <th>0</th>\n",
       "      <td>848835</td>\n",
       "      <td>47</td>\n",
       "    </tr>\n",
       "    <tr>\n",
       "      <th>1</th>\n",
       "      <td>848836</td>\n",
       "      <td>34</td>\n",
       "    </tr>\n",
       "    <tr>\n",
       "      <th>2</th>\n",
       "      <td>848837</td>\n",
       "      <td>50</td>\n",
       "    </tr>\n",
       "    <tr>\n",
       "      <th>3</th>\n",
       "      <td>848838</td>\n",
       "      <td>26</td>\n",
       "    </tr>\n",
       "    <tr>\n",
       "      <th>4</th>\n",
       "      <td>848839</td>\n",
       "      <td>71</td>\n",
       "    </tr>\n",
       "  </tbody>\n",
       "</table>\n",
       "</div>"
      ],
      "text/plain": [
       "   row_id  congestion\n",
       "0  848835          47\n",
       "1  848836          34\n",
       "2  848837          50\n",
       "3  848838          26\n",
       "4  848839          71"
      ]
     },
     "execution_count": 15,
     "metadata": {},
     "output_type": "execute_result"
    }
   ],
   "source": [
    "sbmin.congestion = test.congestion.round().astype(int).tolist()\n",
    "sbmin.congestion[sbmin.congestion<0] = 0\n",
    "sbmin.congestion[sbmin.congestion>100] = 100\n",
    "sbmin.to_csv('dailyMedian.csv', index=False)\n",
    "sbmin.head()"
   ]
  },
  {
   "cell_type": "code",
   "execution_count": 16,
   "id": "cd9a9e8e-a99f-44b8-ad3a-ed7c0976b4bb",
   "metadata": {},
   "outputs": [],
   "source": [
    "test['congestion'] = -1\n",
    "\n",
    "for x in range(3):\n",
    "    for y in range(4):\n",
    "        for idx, direction in enumerate(train.direction.unique()):\n",
    "            # extract data for each roadway\n",
    "            df = train_new[(train_new.x == x) & (train_new.y==y) & (train_new.direction==direction)]\n",
    "            df_new = pd.DataFrame()\n",
    "            if df.shape[0]>0:                \n",
    "                for idx, group in df.groupby(df.time.dt.dayofyear):\n",
    "                    if len(group.congestion) == 72: # consider only days without missing data\n",
    "                        df_new[f'day_{idx}'] = group.congestion.tolist()\n",
    "            \n",
    "                X_train = df_new[df_new.columns[:-1]][-36:]\n",
    "                y_train = df_new[df_new.columns[-1]][-36:]\n",
    "\n",
    "                X_test = df_new[df_new.columns[1:]][-36:]\n",
    "\n",
    "                model = lr()\n",
    "                model.fit(X_train, y_train)\n",
    "\n",
    "                test.congestion[(test.x == x) & (test.y==y) & (test.direction==direction)] = model.predict(X_test).tolist()"
   ]
  },
  {
   "cell_type": "code",
   "execution_count": 19,
   "id": "6648bed7-add0-4c67-9699-0568d22486d2",
   "metadata": {},
   "outputs": [
    {
     "data": {
      "text/html": [
       "<div>\n",
       "<style scoped>\n",
       "    .dataframe tbody tr th:only-of-type {\n",
       "        vertical-align: middle;\n",
       "    }\n",
       "\n",
       "    .dataframe tbody tr th {\n",
       "        vertical-align: top;\n",
       "    }\n",
       "\n",
       "    .dataframe thead th {\n",
       "        text-align: right;\n",
       "    }\n",
       "</style>\n",
       "<table border=\"1\" class=\"dataframe\">\n",
       "  <thead>\n",
       "    <tr style=\"text-align: right;\">\n",
       "      <th></th>\n",
       "      <th>row_id</th>\n",
       "      <th>congestion</th>\n",
       "    </tr>\n",
       "  </thead>\n",
       "  <tbody>\n",
       "    <tr>\n",
       "      <th>0</th>\n",
       "      <td>848835</td>\n",
       "      <td>46</td>\n",
       "    </tr>\n",
       "    <tr>\n",
       "      <th>1</th>\n",
       "      <td>848836</td>\n",
       "      <td>41</td>\n",
       "    </tr>\n",
       "    <tr>\n",
       "      <th>2</th>\n",
       "      <td>848837</td>\n",
       "      <td>50</td>\n",
       "    </tr>\n",
       "    <tr>\n",
       "      <th>3</th>\n",
       "      <td>848838</td>\n",
       "      <td>19</td>\n",
       "    </tr>\n",
       "    <tr>\n",
       "      <th>4</th>\n",
       "      <td>848839</td>\n",
       "      <td>66</td>\n",
       "    </tr>\n",
       "  </tbody>\n",
       "</table>\n",
       "</div>"
      ],
      "text/plain": [
       "   row_id  congestion\n",
       "0  848835          46\n",
       "1  848836          41\n",
       "2  848837          50\n",
       "3  848838          19\n",
       "4  848839          66"
      ]
     },
     "execution_count": 19,
     "metadata": {},
     "output_type": "execute_result"
    }
   ],
   "source": [
    "sbmin.congestion = test.congestion.round().astype(int).tolist()\n",
    "sbmin.congestion[sbmin.congestion<0] = 0\n",
    "sbmin.congestion[sbmin.congestion>100] = 100\n",
    "sbmin.to_csv('DailyLinearRegression.csv', index=False)\n",
    "sbmin.head()"
   ]
  },
  {
   "cell_type": "code",
   "execution_count": 29,
   "id": "14f71b3b-dfd4-42a6-81ca-60b525da61ac",
   "metadata": {},
   "outputs": [],
   "source": [
    "# train.direction.unique()\n",
    "df = train_new[(train_new.x == 0) & (train_new.y==0) & (train_new.direction=='EB')]"
   ]
  },
  {
   "cell_type": "code",
   "execution_count": 40,
   "id": "c64794e9-0c2c-45b5-a1c6-bcefb6ea4d8a",
   "metadata": {},
   "outputs": [],
   "source": []
  },
  {
   "cell_type": "code",
   "execution_count": null,
   "id": "7a1b97d0-b43e-432a-9f64-620696b0ec47",
   "metadata": {},
   "outputs": [],
   "source": []
  }
 ],
 "metadata": {
  "kernelspec": {
   "display_name": "Python 3 (ipykernel)",
   "language": "python",
   "name": "python3"
  },
  "language_info": {
   "codemirror_mode": {
    "name": "ipython",
    "version": 3
   },
   "file_extension": ".py",
   "mimetype": "text/x-python",
   "name": "python",
   "nbconvert_exporter": "python",
   "pygments_lexer": "ipython3",
   "version": "3.9.7"
  }
 },
 "nbformat": 4,
 "nbformat_minor": 5
}
